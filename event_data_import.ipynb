{
 "cells": [
  {
   "cell_type": "code",
   "execution_count": null,
   "id": "initial_id",
   "metadata": {
    "collapsed": true
   },
   "outputs": [],
   "source": [
    "import pandas as pd\n",
    "from pandas import json_normalize\n",
    "import requests\n",
    "import numpy as np\n",
    "import matplotlib.pyplot as plt\n",
    "import seaborn as sns\n",
    "from matplotlib.patches import Arc, Rectangle, ConnectionPatch\n",
    "from matplotlib.offsetbox import  OffsetImage\n",
    "#import squarify\n",
    "from functools import reduce\n",
    "from mplsoccer import Pitch, FontManager\n",
    "#from mplsoccer.statsbomb import read_event, EVENT_SLUG\n",
    "from matplotlib import rcParams\n",
    "import matplotlib.pyplot as plt\n",
    "from tqdm.notebook import tqdm\n",
    "pd.set_option(\"display.max.columns\",None)\n",
    "from matplotlib import cm\n",
    "import matplotlib.pyplot as plt\n",
    "from matplotlib.colors import ListedColormap\n",
    "\n",
    "from mplsoccer import VerticalPitch, Pitch\n",
    "from mplsoccer.cm import create_transparent_cmap\n",
    "from mplsoccer.scatterutils import arrowhead_marker\n",
    "#from mplsoccer.statsbomb import read_event, EVENT_SLUG\n",
    "from mplsoccer.utils import FontManager"
   ]
  },
  {
   "cell_type": "markdown",
   "source": [
    "**Load competitions json file**"
   ],
   "metadata": {
    "collapsed": false
   },
   "id": "882329d38a43d63a"
  },
  {
   "cell_type": "code",
   "outputs": [],
   "source": [
    "competitions = requests.get('https://raw.githubusercontent.com/statsbomb/open-data/master/data/competitions.json')\n",
    "competitions = competitions.json()"
   ],
   "metadata": {
    "collapsed": false
   },
   "id": "f6ce146e9eecca3d"
  },
  {
   "cell_type": "markdown",
   "source": [
    "**View different competitions**"
   ],
   "metadata": {
    "collapsed": false
   },
   "id": "60418537bb869d16"
  },
  {
   "cell_type": "code",
   "outputs": [],
   "source": [
    "for competition in competitions:\n",
    "    print(competition['competition_name'],competition['season_name'],competition['competition_id'],competition['season_id'])"
   ],
   "metadata": {
    "collapsed": false
   },
   "id": "41a06879150b138e"
  },
  {
   "cell_type": "markdown",
   "source": [
    "# Load African Cup of Nations 2023 Data"
   ],
   "metadata": {
    "collapsed": false
   },
   "id": "47f76694e186f9dc"
  },
  {
   "cell_type": "markdown",
   "source": [
    "**Load matches data**"
   ],
   "metadata": {
    "collapsed": false
   },
   "id": "9b81a25966ce3953"
  },
  {
   "cell_type": "code",
   "outputs": [],
   "source": [
    "afcon_matches = requests.get('https://raw.githubusercontent.com/statsbomb/open-data/master/data/matches/'+str(1267)+'/'+str(107)+'.json')\n",
    "afcon_matches = afcon_matches.json()\n",
    "afcon_matches_df = json_normalize(afcon_matches, sep = \"_\")"
   ],
   "metadata": {
    "collapsed": false
   },
   "id": "1aa95eba54549350"
  },
  {
   "cell_type": "code",
   "outputs": [],
   "source": [
    "print(afcon_matches_df.shape)\n",
    "afcon_matches_df.head()"
   ],
   "metadata": {
    "collapsed": false
   },
   "id": "f2035a71b6d43ce4"
  },
  {
   "cell_type": "markdown",
   "source": [
    "**Load actions of all matches in one dataframe**"
   ],
   "metadata": {
    "collapsed": false
   },
   "id": "d03b4bacfd99b463"
  },
  {
   "cell_type": "code",
   "outputs": [],
   "source": [
    "afcon_events = pd.DataFrame()\n",
    "for i in afcon_matches_df['match_id']:\n",
    "    events = requests.get('https://raw.githubusercontent.com/statsbomb/open-data/master/data/events/'+str(i)+'.json')\n",
    "    events = events.json()\n",
    "    events = json_normalize(events, sep = \"_\")\n",
    "    events['match_id'] = i\n",
    "    afcon_events = pd.concat([afcon_events,events])"
   ],
   "metadata": {
    "collapsed": false
   },
   "id": "7dd5aa913262350d"
  },
  {
   "cell_type": "code",
   "outputs": [],
   "source": [
    "afcon_events.to_csv('afcon_event_data.csv',index=False)"
   ],
   "metadata": {
    "collapsed": false
   },
   "id": "35a33ca7eea5352b"
  }
 ],
 "metadata": {
  "kernelspec": {
   "display_name": "Python 3",
   "language": "python",
   "name": "python3"
  },
  "language_info": {
   "codemirror_mode": {
    "name": "ipython",
    "version": 2
   },
   "file_extension": ".py",
   "mimetype": "text/x-python",
   "name": "python",
   "nbconvert_exporter": "python",
   "pygments_lexer": "ipython2",
   "version": "2.7.6"
  }
 },
 "nbformat": 4,
 "nbformat_minor": 5
}
